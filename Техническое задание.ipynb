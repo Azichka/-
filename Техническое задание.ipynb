{
 "cells": [
  {
   "cell_type": "markdown",
   "id": "16e53ae8-2432-47d5-8aee-971445dbea71",
   "metadata": {},
   "source": [
    "#### 1. Вопросы\n"
   ]
  },
  {
   "cell_type": "markdown",
   "id": "bfd3ca8f-11a0-474f-a015-6852730c47c4",
   "metadata": {},
   "source": [
    "1) Оцениваю свой уровень владения Python на 7/10. В принципе, имею неплохое понимание базы Python. Понимаю, принципы ООП, умею работать с классами. Так же имею большой опыт работы с Python в сфере анализа данных. Владею основными релевантными библиотеками, такими как pandas, matplotlib, seaborn, numpy, scikit-learn."
   ]
  },
  {
   "cell_type": "markdown",
   "id": "ddc9df81-56ce-4b3f-9fae-97bb842ebf49",
   "metadata": {},
   "source": [
    "2) Оцениваю свой уровень владения Google Sheets на 6/10. Умею использовать встроенные функции, создавать сводные таблицы."
   ]
  },
  {
   "cell_type": "markdown",
   "id": "ca1b2303-5db2-46ea-82ae-5949c2659a99",
   "metadata": {},
   "source": [
    "#### 2. Задачи на логику"
   ]
  },
  {
   "cell_type": "markdown",
   "id": "b69c224e-33f0-4167-9d4d-a50d4ea43588",
   "metadata": {},
   "source": [
    "1) Рекламная кампания стартовала вчера с дневным бюджетом 40 $. Половина\n",
    "бюджета была израсходована к полудню, а 80% оставшегося бюджета было\n",
    "потрачено между полуднем и временем закрытия. Сколько долларов не было\n",
    "потрачено?"
   ]
  },
  {
   "cell_type": "code",
   "execution_count": 1,
   "id": "3f2e80ad-52bc-4f98-b2d2-03441d5f9516",
   "metadata": {},
   "outputs": [
    {
     "data": {
      "text/plain": [
       "4.0"
      ]
     },
     "execution_count": 1,
     "metadata": {},
     "output_type": "execute_result"
    }
   ],
   "source": [
    "40 * 0.5 * 0.2"
   ]
  },
  {
   "cell_type": "markdown",
   "id": "5dfbeb85-ff86-4b0e-8eb5-7c9b9b197ba1",
   "metadata": {},
   "source": [
    "Ответ: 4 доллара"
   ]
  },
  {
   "cell_type": "markdown",
   "id": "9bea1284-b46e-46f6-a552-ac194a98d07e",
   "metadata": {},
   "source": [
    "2) 5 идентичных рекламных кампаний работали 24 дня по 6 часов в день,\n",
    "потрачено было 120 долларов. Сколько дней они работали бы на 216 долларов,\n",
    "если бы 9 одинаковых кампаний работали бы по 8 часов в день?"
   ]
  },
  {
   "cell_type": "code",
   "execution_count": 2,
   "id": "96c808a7-a472-4972-9761-aece0d7cc5e5",
   "metadata": {},
   "outputs": [
    {
     "data": {
      "text/plain": [
       "18.0"
      ]
     },
     "execution_count": 2,
     "metadata": {},
     "output_type": "execute_result"
    }
   ],
   "source": [
    "216 / (120 / (24 * 6 * 5) * 9 * 8)"
   ]
  },
  {
   "cell_type": "markdown",
   "id": "6d845701-0c0c-4061-9241-92399b48901d",
   "metadata": {},
   "source": [
    "Ответ: 18 дней"
   ]
  },
  {
   "cell_type": "markdown",
   "id": "77b3c890-9e4a-4581-a3b8-cc75cdc97ac3",
   "metadata": {},
   "source": [
    "3) Дизайнеры создали 200 рекламных баннеров для двух рекламных кампаний. 80\r\n",
    "из них не использовались ни в кампании No1, ни в кампании No2, 60\r\n",
    "использовались только в кампании No1. И для каждого рекламного баннера,\r\n",
    "который использовался в обеих кампаниях, приходится 3 баннера, которые\r\n",
    "использовались только в кампании No2. Сколько баннеров было использовано в\r\n",
    "обеих рекламных кампаниях?"
   ]
  },
  {
   "cell_type": "code",
   "execution_count": 3,
   "id": "bf44403a-4574-4ea7-a40b-d22bd7e80759",
   "metadata": {},
   "outputs": [
    {
     "data": {
      "text/plain": [
       "15.0"
      ]
     },
     "execution_count": 3,
     "metadata": {},
     "output_type": "execute_result"
    }
   ],
   "source": [
    "(200 - 80 - 60) / 4"
   ]
  },
  {
   "cell_type": "markdown",
   "id": "21431270-4e3f-487e-9d02-4f60e916b4fa",
   "metadata": {},
   "source": [
    "Ответ: 15 баннеров"
   ]
  },
  {
   "cell_type": "markdown",
   "id": "bd464d0b-6399-4bd1-a074-6e0a4dd3ad32",
   "metadata": {},
   "source": [
    "4) Энн использует Instagram, но не Facebook, а Джон использует Youtube и\n",
    "Facebook. Кейт использует Youtube, но не Instagram, а Том использует Facebook,\n",
    "но не Youtube. Если каждый человек использует две из трех социальных сетей,\n",
    "у кого предпочтения совпадают?"
   ]
  },
  {
   "cell_type": "markdown",
   "id": "fe7d855d-d1a6-4332-8fa8-214c81e748c2",
   "metadata": {},
   "source": [
    "Энн: Instagram, Youtube\n",
    "Джон: Youtube, Facebook\n",
    "Кейт: Youtube, Facebook\n",
    "Том: Facebook, Instagram\n",
    "\n",
    "Ответ: Джон и Кейт"
   ]
  },
  {
   "cell_type": "markdown",
   "id": "4c40ebf4-da22-41e6-805b-310a2bf899b8",
   "metadata": {},
   "source": [
    "5) Средний итоговый балл стажера по 4 модулям составляет 78 баллов. Сколько\n",
    "баллов должен получить стажер за 5-й модуль, чтобы средний балл по всему\n",
    "заданию составил 80?"
   ]
  },
  {
   "cell_type": "code",
   "execution_count": 4,
   "id": "5a38ef7d-f578-4a20-b61d-b50a707e0d1c",
   "metadata": {},
   "outputs": [
    {
     "data": {
      "text/plain": [
       "88"
      ]
     },
     "execution_count": 4,
     "metadata": {},
     "output_type": "execute_result"
    }
   ],
   "source": [
    "80 * 5 - 78 * 4"
   ]
  },
  {
   "cell_type": "markdown",
   "id": "9ad6aaf2-cdac-43b3-b250-c5527b683abe",
   "metadata": {},
   "source": [
    "Ответ: 88 баллов"
   ]
  },
  {
   "cell_type": "markdown",
   "id": "77adf777-a192-4dfa-a23e-39f43e210cc2",
   "metadata": {},
   "source": [
    "6) Заказанные в приложении товары доставляются на автомобиле. Автомобиль\n",
    "проезжает 260 км со средней скоростью 80 км / ч. На обратном пути машина\n",
    "движется со средней скоростью 100 км / ч. Насколько быстрее был обратный\n",
    "путь? Ответ указать в минутах."
   ]
  },
  {
   "cell_type": "markdown",
   "id": "99799582-4db4-4c8e-95b5-496f462556e9",
   "metadata": {},
   "source": [
    "Время пути в прямом направлении:"
   ]
  },
  {
   "cell_type": "code",
   "execution_count": 5,
   "id": "59fd9ebb-49c0-496e-8e50-0c6d5047cd7b",
   "metadata": {},
   "outputs": [
    {
     "data": {
      "text/plain": [
       "195.0"
      ]
     },
     "execution_count": 5,
     "metadata": {},
     "output_type": "execute_result"
    }
   ],
   "source": [
    "260 / 80 * 60"
   ]
  },
  {
   "cell_type": "markdown",
   "id": "f802738e-6282-4383-8c41-1c012af0a0ce",
   "metadata": {},
   "source": [
    "Время пути в обратном направлении:"
   ]
  },
  {
   "cell_type": "code",
   "execution_count": 6,
   "id": "9307b37f-977e-43de-a777-f7178627b9d3",
   "metadata": {},
   "outputs": [
    {
     "data": {
      "text/plain": [
       "156.0"
      ]
     },
     "execution_count": 6,
     "metadata": {},
     "output_type": "execute_result"
    }
   ],
   "source": [
    "260 / 100 * 60"
   ]
  },
  {
   "cell_type": "code",
   "execution_count": 7,
   "id": "9112d259-86b8-40ba-aa80-578519a99f9f",
   "metadata": {},
   "outputs": [
    {
     "data": {
      "text/plain": [
       "39"
      ]
     },
     "execution_count": 7,
     "metadata": {},
     "output_type": "execute_result"
    }
   ],
   "source": [
    "195 - 156"
   ]
  },
  {
   "cell_type": "markdown",
   "id": "db0675aa-dfd5-4b21-ba10-67b02eb32099",
   "metadata": {},
   "source": [
    "Ответ: 39 минут"
   ]
  },
  {
   "cell_type": "markdown",
   "id": "6375df0b-a048-423f-b819-334f549f2eb7",
   "metadata": {},
   "source": [
    "#### 3. Техническое задание"
   ]
  },
  {
   "cell_type": "code",
   "execution_count": null,
   "id": "366ad169-8480-42e2-aa0e-31ae3169a71d",
   "metadata": {},
   "outputs": [],
   "source": [
    "import warnings\n",
    "warnings.simplefilter(action='ignore', category=FutureWarning)\n",
    "import pandas as pd\n",
    "import seaborn as sns\n",
    "import matplotlib.pyplot as plt\n",
    "from matplotlib import rcParams\n",
    "rcParams['figure.figsize'] = 9, 6"
   ]
  },
  {
   "cell_type": "code",
   "execution_count": null,
   "id": "e7d0fd6f-e6bf-431c-8c2b-08bdbaed8855",
   "metadata": {},
   "outputs": [],
   "source": [
    "data = pd.read_excel(r'C:\\Users\\Azichka\\Desktop\\TZ\\data.xlsx', usecols = ['client_id', 'sum', 'status', 'sale', 'new/current', 'document', 'receiving_date'])"
   ]
  },
  {
   "cell_type": "code",
   "execution_count": null,
   "id": "db90c1bb-e68a-45e7-b04d-69e10e80cc71",
   "metadata": {},
   "outputs": [],
   "source": [
    "data.head(10)"
   ]
  },
  {
   "cell_type": "code",
   "execution_count": null,
   "id": "523fd54c-b6d6-4449-ae02-31eb36e5832e",
   "metadata": {},
   "outputs": [],
   "source": [
    "data['status'].value_counts()"
   ]
  },
  {
   "cell_type": "code",
   "execution_count": null,
   "id": "2a3f68e8-001b-4774-aa4e-743e62503124",
   "metadata": {},
   "outputs": [],
   "source": [
    "data['dates'] = data['status'].apply(lambda x: x if x not in ('ОПЛАЧЕНО', 'ПРОСРОЧЕНО', 'В РАБОТЕ', 'НА ПОДПИСАНИИ', 'ВНУТРЕННИЙ') else None)\n",
    "\n",
    "data['dates'].ffill(inplace = True)"
   ]
  },
  {
   "cell_type": "code",
   "execution_count": null,
   "id": "2e730908-3825-4351-a730-344880789aea",
   "metadata": {},
   "outputs": [],
   "source": [
    "data = data.query('status in (\"ОПЛАЧЕНО\", \"ПРОСРОЧЕНО\", \"В РАБОТЕ\", \"НА ПОДПИСАНИИ\")')"
   ]
  },
  {
   "cell_type": "code",
   "execution_count": null,
   "id": "b7ebc5f8-7a5d-4632-94dc-5f5fb507edfb",
   "metadata": {},
   "outputs": [],
   "source": [
    "data['new/current'].value_counts()"
   ]
  },
  {
   "cell_type": "code",
   "execution_count": null,
   "id": "07407703-0219-469b-aef7-9f9ad011b854",
   "metadata": {},
   "outputs": [],
   "source": [
    "data['document'].value_counts()"
   ]
  },
  {
   "cell_type": "markdown",
   "id": "e498eac3-2690-4396-8131-19339a836ebe",
   "metadata": {},
   "source": [
    "1) Вычислите общую выручку за июль 2021 по тем сделкам, приход денежных\n",
    "средств которых не просрочен."
   ]
  },
  {
   "cell_type": "code",
   "execution_count": null,
   "id": "ff7f0677-7640-4b7e-984b-44e856d14497",
   "metadata": {},
   "outputs": [],
   "source": [
    "print('Общая выручка за июль 2021 равна', data.query('dates == \"Июль 2021\" and status != \"ПРОСРОЧЕНО\"')['sum'].sum())"
   ]
  },
  {
   "cell_type": "markdown",
   "id": "eafe7321-7144-49a4-b71a-f667f588aeb2",
   "metadata": {},
   "source": [
    "2) Как изменялась выручка компании за рассматриваемый период?\n",
    "Проиллюстрируйте графиком."
   ]
  },
  {
   "cell_type": "code",
   "execution_count": null,
   "id": "1b2f00a8-d3f1-484c-aa19-55e5c4a0f6c0",
   "metadata": {},
   "outputs": [],
   "source": [
    "def month_to_number(string):\n",
    "    dict = {'Май 2021': 5, 'Июнь 2021': 6, 'Июль 2021': 7, 'Август 2021': 8, 'Сентябрь 2021': 9, 'Октябрь 2021': 10}\n",
    "    return dict[string]"
   ]
  },
  {
   "cell_type": "code",
   "execution_count": null,
   "id": "bac80e2d-1b35-40e4-92be-4c6321cac327",
   "metadata": {},
   "outputs": [],
   "source": [
    "revenue = data.query('status != \"ПРОСРОЧЕНО\"').groupby('dates', as_index = False).agg(revenue = ('sum', 'sum'))"
   ]
  },
  {
   "cell_type": "code",
   "execution_count": null,
   "id": "f6b9985e-4891-4bd8-b030-e424210dcf22",
   "metadata": {},
   "outputs": [],
   "source": [
    "revenue['num'] = revenue['dates'].apply(month_to_number)"
   ]
  },
  {
   "cell_type": "code",
   "execution_count": null,
   "id": "cd298692-3f9e-4b9f-b971-5d6e6c0cd394",
   "metadata": {},
   "outputs": [],
   "source": [
    "revenue.sort_values('num', ascending = True, inplace = True)"
   ]
  },
  {
   "cell_type": "markdown",
   "id": "adae499f-c1df-43ee-8765-a71724d54ceb",
   "metadata": {},
   "source": [
    "Распределение выручки по месяцам"
   ]
  },
  {
   "cell_type": "code",
   "execution_count": null,
   "id": "2f69bf3a-fee4-432a-b913-dcab2be52dad",
   "metadata": {},
   "outputs": [],
   "source": [
    "fig = sns.barplot(revenue, x = 'dates', y = 'revenue')\n",
    "plt.xlabel(\"Дата\")\n",
    "plt.ylabel(\"Выручка\")\n",
    "plt.title(\"Выручка за месяц\")\n",
    "plt.show(fig)"
   ]
  },
  {
   "cell_type": "code",
   "execution_count": null,
   "id": "078dec43-8219-4b77-b15e-224e24d5beed",
   "metadata": {},
   "outputs": [],
   "source": [
    "palette_color = sns.color_palette('bright') \n",
    "fig = plt.pie(revenue['revenue'], labels=revenue['dates'], colors=palette_color, autopct='%.0f%%') \n",
    "plt.title(\"Доля выручки за месяц в общей выручке за рассматриваемый период\")\n",
    "plt.show(fig) "
   ]
  },
  {
   "cell_type": "markdown",
   "id": "16f834d2-04ea-4fcc-a764-9d30974cc3f0",
   "metadata": {},
   "source": [
    "Кумулятивная сумма"
   ]
  },
  {
   "cell_type": "code",
   "execution_count": null,
   "id": "74dc9714-6fc4-43a1-9239-508ba65ef1a5",
   "metadata": {},
   "outputs": [],
   "source": [
    "revenue['cum_sum'] = revenue['revenue'].cumsum() / 1_000_000"
   ]
  },
  {
   "cell_type": "code",
   "execution_count": null,
   "id": "80fddedd-66bd-46f9-b680-798be6affdb4",
   "metadata": {},
   "outputs": [],
   "source": [
    "fig = sns.barplot(revenue, x = 'dates', y = 'cum_sum')\n",
    "plt.xlabel(\"Дата\")\n",
    "plt.ylabel(\"Выручка\")\n",
    "plt.title(\"Кумулятивная выручка в миллионах рублей\")\n",
    "plt.show(fig)"
   ]
  },
  {
   "cell_type": "markdown",
   "id": "d9c28518-98a9-4382-9173-e45fe7b11df9",
   "metadata": {},
   "source": [
    "3) Кто из менеджеров привлек для компании больше всего денежных средств в\n",
    "сентябре 2021?"
   ]
  },
  {
   "cell_type": "code",
   "execution_count": null,
   "id": "a14b909d-f661-4519-b999-3ba3f3e244c3",
   "metadata": {},
   "outputs": [],
   "source": [
    "revenue_per_manager = data.query('status != \"ПРОСРОЧЕНО\" and dates == \"Сентябрь 2021\"').groupby('sale', as_index = False).agg(revenue = ('sum', 'sum')).sort_values('revenue', ascending = False)"
   ]
  },
  {
   "cell_type": "code",
   "execution_count": null,
   "id": "c5cc83f1-7713-45cf-adc5-1a7d56f1e417",
   "metadata": {},
   "outputs": [],
   "source": [
    "rcParams['figure.figsize'] = 11, 7\n",
    "fig = sns.barplot(revenue_per_manager, x = 'sale', y = 'revenue')\n",
    "plt.xlabel(\"Менеджер\")\n",
    "plt.ylabel(\"Выручка\")\n",
    "plt.title(\"Сумма денежных средств, привлеченных каждым менеджером за сентябрь\")\n",
    "plt.show(fig)"
   ]
  },
  {
   "cell_type": "markdown",
   "id": "57904409-c934-4f93-8f25-a2cd0c3bdf3f",
   "metadata": {},
   "source": [
    "#### Больше всех привлек Смирнов"
   ]
  },
  {
   "cell_type": "markdown",
   "id": "e738683c-5fc1-4379-8cf8-799d676dc349",
   "metadata": {},
   "source": [
    "4) Какой тип сделок (новая/текущая) был преобладающим в октябре 2021?"
   ]
  },
  {
   "cell_type": "code",
   "execution_count": null,
   "id": "905a3449-ec66-4325-908b-946f358e634f",
   "metadata": {},
   "outputs": [],
   "source": [
    "data.query('dates == \"Октябрь 2021\"')['new/current'].value_counts()"
   ]
  },
  {
   "cell_type": "markdown",
   "id": "f5d2973c-af0d-4fcd-be55-9ccfc311c7d9",
   "metadata": {},
   "source": [
    "Текущая - 99, новая - 36. Преобладает текущая"
   ]
  },
  {
   "cell_type": "markdown",
   "id": "d7bed869-a38a-44fb-9aa1-f92f2b095e97",
   "metadata": {},
   "source": [
    "5) Сколько оригиналов договора по майским сделкам было получено в июне 2021?"
   ]
  },
  {
   "cell_type": "code",
   "execution_count": null,
   "id": "f409bf7c-88ef-4911-9dbd-bb31018f3eef",
   "metadata": {},
   "outputs": [],
   "source": [
    "print('Количество оригиналов договоров по майским сделкам, полученных в июне 2021:', data[(data['receiving_date'].astype('datetime64[ns]').dt.month == 6) & (data['dates'] == 'Май 2021') & (data['document'] == 'оригинал')].shape[0])"
   ]
  },
  {
   "cell_type": "markdown",
   "id": "d4e703db-34ff-4eef-9f09-7f9dbf70fd15",
   "metadata": {},
   "source": [
    "### Задача"
   ]
  },
  {
   "cell_type": "markdown",
   "id": "5a71b030-cf52-407c-b431-857d6e70642a",
   "metadata": {},
   "source": [
    "За каждую заключенную сделку менеджер получает бонус, который рассчитывается\n",
    "следующим образом.\n",
    "1) За новые сделки менеджер получает 7 % от суммы, при условии, что статус\n",
    "оплаты «ОПЛАЧЕНО», а также имеется оригинал подписанного договора с\n",
    "клиентом (в рассматриваемом месяце).\n",
    "2) За текущие сделки менеджер получает 5 % от суммы, если она больше 10 тыс.,\n",
    "и 3 % от суммы, если меньше. При этом статус оплаты может быть любым,\n",
    "кроме «ПРОСРОЧЕНО», а также необходимо наличие оригинала подписанного\n",
    "договора с клиентом (в рассматриваемом месяце).\n",
    "Бонусы по сделкам, оригиналы для которых приходят позже рассматриваемого\n",
    "месяца, считаются остатком на следующий период, который выплачивается по мере\n",
    "прихода оригиналов. Вычислите остаток каждого из менеджеров на 01.07.2021."
   ]
  },
  {
   "cell_type": "markdown",
   "id": "12c8ba9d-7eeb-46ce-aeb9-253f388f379c",
   "metadata": {},
   "source": [
    "#### Если я правильно понял условие задачи, необходимо найти менеджеров, которые заключили сделки до июля и при этом получили оригиналы договора в июле или позже, или еще не получили. Также нужно отфильтровать те сделки, где оплата просрочена"
   ]
  },
  {
   "cell_type": "code",
   "execution_count": null,
   "id": "0ceec0e4-efe2-44fa-99a4-f7725ea6f866",
   "metadata": {},
   "outputs": [],
   "source": [
    "temp = data[(data['receiving_date'].astype('datetime64[ns]').dt.strftime('%Y-%m-%d') >= '2021-07-01') & ( (data['dates'] == 'Май 2021') | (data['dates'] == 'Июнь 2021') )  & (data['status'] != 'ПРОСРОЧЕНО')]"
   ]
  },
  {
   "cell_type": "code",
   "execution_count": null,
   "id": "9af06e2c-3d5a-4504-bdaa-7ae697c3253a",
   "metadata": {},
   "outputs": [],
   "source": [
    "temp['residue'] = temp.apply(lambda x: x['sum'] * 0.07 if x['status'] == 'ОПЛАЧЕНО' and x['new/current'] == 'новая' else ( x['sum'] * 0.05 if x['new/current'] == 'текущая' and x['sum'] > 10000 else ( x['sum'] * 0.03 if x['new/current'] == 'текущая' and x['sum'] <= 10000 else 0)), axis = 1)"
   ]
  },
  {
   "cell_type": "markdown",
   "id": "0f557f64-b29f-4e83-a6e3-6d9be8ac1e59",
   "metadata": {},
   "source": [
    "#### Таблица со значениями остатков"
   ]
  },
  {
   "cell_type": "code",
   "execution_count": null,
   "id": "dcc74afa-1430-424a-ab4e-264a0cb1d783",
   "metadata": {},
   "outputs": [],
   "source": [
    "temp.groupby('sale', as_index = False).agg(residue = ('residue', 'sum')).sort_values('residue', ascending = False)"
   ]
  },
  {
   "cell_type": "code",
   "execution_count": null,
   "id": "9cc35b74-8289-4c59-944e-5a94901c9d33",
   "metadata": {},
   "outputs": [],
   "source": []
  }
 ],
 "metadata": {
  "kernelspec": {
   "display_name": "Python 3 (ipykernel)",
   "language": "python",
   "name": "python3"
  },
  "language_info": {
   "codemirror_mode": {
    "name": "ipython",
    "version": 3
   },
   "file_extension": ".py",
   "mimetype": "text/x-python",
   "name": "python",
   "nbconvert_exporter": "python",
   "pygments_lexer": "ipython3",
   "version": "3.11.7"
  }
 },
 "nbformat": 4,
 "nbformat_minor": 5
}
